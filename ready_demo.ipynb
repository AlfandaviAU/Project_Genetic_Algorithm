{
 "cells": [
  {
   "cell_type": "code",
   "execution_count": 1,
   "metadata": {},
   "outputs": [],
   "source": [
    "import pandas as pd\n",
    "import numpy as np\n",
    "import random\n",
    "import copy"
   ]
  },
  {
   "cell_type": "code",
   "execution_count": 2,
   "metadata": {},
   "outputs": [],
   "source": [
    "df = pd.read_csv(\"data.csv\")"
   ]
  },
  {
   "cell_type": "code",
   "execution_count": 3,
   "metadata": {},
   "outputs": [],
   "source": [
    "list_ws = [[1],[2,3],[4,5,6]]"
   ]
  },
  {
   "attachments": {},
   "cell_type": "markdown",
   "metadata": {},
   "source": [
    "##### Pengelompokkan"
   ]
  },
  {
   "cell_type": "code",
   "execution_count": 4,
   "metadata": {},
   "outputs": [],
   "source": [
    "def make_kelompok(df):\n",
    "    kelompok = []\n",
    "\n",
    "    for i in range (0,len(df),5):\n",
    "        kelompok.append(list(range(i,i+5)))\n",
    "    return kelompok"
   ]
  },
  {
   "cell_type": "code",
   "execution_count": 5,
   "metadata": {},
   "outputs": [],
   "source": [
    "list_kelompok = (make_kelompok(df))"
   ]
  },
  {
   "cell_type": "code",
   "execution_count": 6,
   "metadata": {},
   "outputs": [
    {
     "data": {
      "text/plain": [
       "[[0, 1, 2, 3, 4],\n",
       " [5, 6, 7, 8, 9],\n",
       " [10, 11, 12, 13, 14],\n",
       " [15, 16, 17, 18, 19],\n",
       " [20, 21, 22, 23, 24],\n",
       " [25, 26, 27, 28, 29]]"
      ]
     },
     "execution_count": 6,
     "metadata": {},
     "output_type": "execute_result"
    }
   ],
   "source": [
    "list_kelompok"
   ]
  },
  {
   "cell_type": "code",
   "execution_count": 7,
   "metadata": {},
   "outputs": [
    {
     "name": "stdout",
     "output_type": "stream",
     "text": [
      "[[5, 0], [6, 0], [7, 0], [8, 0], [9, 0], [20, 0], [21, 0], [22, 0], [23, 0], [24, 0]]\n"
     ]
    }
   ],
   "source": [
    "def find_empty(df):\n",
    "    empty = []\n",
    "    for i in range (len(df)):\n",
    "        # print(i)\n",
    "        for j in range (len(df.iloc[i])):\n",
    "            if pd.isna(df.iloc[i][j]):\n",
    "                empty.append([i,j])\n",
    "                \n",
    "    return empty\n",
    "print(find_empty(df))\n",
    "\n",
    "list_empty = find_empty(df)"
   ]
  },
  {
   "cell_type": "code",
   "execution_count": 8,
   "metadata": {},
   "outputs": [
    {
     "name": "stdout",
     "output_type": "stream",
     "text": [
      "2\n"
     ]
    }
   ],
   "source": [
    "def find_column_in_matrix(value, matrix):\n",
    "    for i in range (len(matrix)):\n",
    "        for j in range (len(matrix[i])):\n",
    "            if (matrix[i][j] == value):\n",
    "                return i\n",
    "\n",
    "print(find_column_in_matrix(6, list_ws))"
   ]
  },
  {
   "cell_type": "code",
   "execution_count": 9,
   "metadata": {},
   "outputs": [
    {
     "name": "stdout",
     "output_type": "stream",
     "text": [
      "[[1, 2, 3], [2, 3], [1, 2, 3], [1, 2, 3], [2, 3], [1, 2, 3]]\n"
     ]
    }
   ],
   "source": [
    "def routing(list_kelompok, empty):\n",
    "    list_route = []\n",
    "    for kelompok in list_kelompok:\n",
    "        ws_list = [1,2,3]\n",
    "        for job in kelompok:\n",
    "            for unused_job, ws_num in empty:\n",
    "                if (job == unused_job):\n",
    "                    found = find_column_in_matrix(ws_num+1, list_ws)\n",
    "                    if found+1 in ws_list:\n",
    "                        ws_list.remove(found+1)\n",
    "        list_route.append(ws_list)\n",
    "    return list_route\n",
    "\n",
    "list_routing = routing(list_kelompok, list_empty)\n",
    "print(list_routing)"
   ]
  },
  {
   "cell_type": "code",
   "execution_count": 10,
   "metadata": {},
   "outputs": [
    {
     "name": "stdout",
     "output_type": "stream",
     "text": [
      "[[11. 18. 18.  8.  8.  8.]\n",
      " [ 0. 11. 11. 16. 16. 16.]\n",
      " [17. 19. 19. 16. 16. 16.]\n",
      " [18. 12. 12. 17. 17. 17.]\n",
      " [ 0. 15. 15. 15. 15. 15.]\n",
      " [12. 14. 14. 18. 18. 18.]]\n"
     ]
    }
   ],
   "source": [
    "def generate_waktu(df):\n",
    "    list_waktu = []\n",
    "    for kelompok in list_kelompok: \n",
    "        list_waktu_kelompok = []\n",
    "        for task in range(df.shape[1]):\n",
    "            sum = 0\n",
    "            for job in kelompok:\n",
    "                sum += df.iloc[job][task]\n",
    "            if np.isnan(sum):\n",
    "                sum = 0\n",
    "            list_waktu_kelompok.append(sum)\n",
    "        list_waktu.append(list_waktu_kelompok)\n",
    "    return list_waktu\n",
    "list_waktu = generate_waktu(df)\n",
    "print(np.array(generate_waktu(df)))\n",
    "\n",
    "def get_from_matrix(x,y):\n",
    "    return list_waktu[x][y]"
   ]
  },
  {
   "attachments": {},
   "cell_type": "markdown",
   "metadata": {},
   "source": [
    "#### Main Process Start Here\n",
    "##### HYPER PARAMETER HERE\n"
   ]
  },
  {
   "cell_type": "code",
   "execution_count": 11,
   "metadata": {},
   "outputs": [
    {
     "data": {
      "text/plain": [
       "(5, 9)"
      ]
     },
     "execution_count": 11,
     "metadata": {},
     "output_type": "execute_result"
    }
   ],
   "source": [
    "num_solution = 3\n",
    "jumlah_mesin = 6\n",
    "jumlah_kelompok = 6\n",
    "crossover_rate = 0.25\n",
    "mutation_rate = 0.1\n",
    "\n",
    "total_gen = jumlah_mesin * num_solution\n",
    "number_of_mutation = int(np.ceil(mutation_rate * total_gen))\n",
    "\n",
    "\n",
    "r1 = random.randrange(1,total_gen)\n",
    "r2 = random.randrange(1,total_gen)\n",
    "\n",
    "r1 = 5\n",
    "r2 = 9\n",
    "\n",
    "r1,r2\n"
   ]
  },
  {
   "attachments": {},
   "cell_type": "markdown",
   "metadata": {},
   "source": [
    "##### STEP 1. Generate Initial Population"
   ]
  },
  {
   "cell_type": "code",
   "execution_count": 12,
   "metadata": {},
   "outputs": [
    {
     "name": "stdout",
     "output_type": "stream",
     "text": [
      "[[1, 1, 1], [1, 2, 2], [1, 3, 4]]\n",
      "[[2, 1, 1], [2, 2, 2], [2, 3, 4]]\n",
      "[[3, 1, 1], [3, 2, 2], [3, 3, 4]]\n",
      "[[4, 1, 1], [4, 2, 2], [4, 3, 4]]\n",
      "[[5, 1, 1], [5, 2, 2], [5, 3, 4]]\n",
      "[[6, 1, 1], [6, 2, 2], [6, 3, 4]]\n",
      "\n",
      "\n",
      "[[6, 1, 1], [6, 2, 2], [6, 3, 4]]\n",
      "[[5, 1, 1], [5, 2, 2], [5, 3, 4]]\n",
      "[[4, 1, 1], [4, 2, 2], [4, 3, 4]]\n",
      "[[3, 1, 1], [3, 2, 2], [3, 3, 4]]\n",
      "[[2, 1, 1], [2, 2, 2], [2, 3, 4]]\n",
      "[[1, 1, 1], [1, 2, 2], [1, 3, 4]]\n",
      "\n",
      "\n",
      "[[4, 1, 1], [4, 2, 2], [4, 3, 4]]\n",
      "[[5, 1, 1], [5, 2, 2], [5, 3, 4]]\n",
      "[[6, 1, 1], [6, 2, 2], [6, 3, 4]]\n",
      "[[1, 1, 1], [1, 2, 2], [1, 3, 4]]\n",
      "[[2, 1, 1], [2, 2, 2], [2, 3, 4]]\n",
      "[[3, 1, 1], [3, 2, 2], [3, 3, 4]]\n",
      "\n",
      "\n"
     ]
    }
   ],
   "source": [
    "def generate_step(job,operasi,mesin):\n",
    "    dict = [job,operasi,mesin]\n",
    "    return dict\n",
    "\n",
    "\n",
    "def generate_first_solution(arr):\n",
    "    step_collection = []\n",
    "    for i in range (len(arr)):\n",
    "        step = []\n",
    "        for j in range (num_solution):\n",
    "            step.append(generate_step(arr[i],j+1,list_ws[j][0]))\n",
    "        step_collection.append(step)\n",
    "    return(step_collection)\n",
    "\n",
    "solution_collection = [\n",
    "    generate_first_solution([1,2,3,4,5,6]),\n",
    "    generate_first_solution([6,5,4,3,2,1]),\n",
    "    generate_first_solution([4,5,6,1,2,3])\n",
    "]\n",
    "\n",
    "base = solution_collection.copy()\n",
    "\n",
    "def display_solutions(second):\n",
    "    for i in range (len(second)):\n",
    "        for j in range (len(second[i])):\n",
    "            print(second[i][j],end=\"\\n\")\n",
    "        print(\"\\n\")\n",
    "display_solutions(solution_collection)\n"
   ]
  },
  {
   "cell_type": "code",
   "execution_count": 13,
   "metadata": {},
   "outputs": [
    {
     "name": "stdout",
     "output_type": "stream",
     "text": [
      "[[1, 1, 1], [1, 2, 2], [1, 3, 4]]\n",
      "[[2, 1, 1], [2, 2, 2], [2, 3, 4]]\n",
      "[[3, 1, 1], [3, 2, 2], [3, 3, 4]]\n",
      "[[4, 1, 1], [4, 2, 2], [4, 3, 4]]\n",
      "[[5, 1, 1], [5, 2, 2], [5, 3, 4]]\n",
      "[[6, 1, 1], [6, 2, 2], [6, 3, 4]]\n",
      "\n",
      "\n",
      "[[6, 1, 1], [6, 2, 2], [6, 3, 4]]\n",
      "[[5, 1, 1], [5, 2, 2], [5, 3, 4]]\n",
      "[[4, 1, 1], [4, 2, 2], [4, 3, 4]]\n",
      "[[3, 1, 1], [3, 2, 2], [3, 3, 4]]\n",
      "[[2, 1, 1], [2, 2, 2], [2, 3, 4]]\n",
      "[[1, 1, 1], [1, 2, 2], [1, 3, 4]]\n",
      "\n",
      "\n",
      "[[4, 1, 1], [4, 2, 2], [4, 3, 4]]\n",
      "[[5, 1, 1], [5, 2, 2], [5, 3, 4]]\n",
      "[[6, 1, 1], [6, 2, 2], [6, 3, 4]]\n",
      "[[1, 1, 1], [1, 2, 2], [1, 3, 4]]\n",
      "[[2, 1, 1], [2, 2, 2], [2, 3, 4]]\n",
      "[[3, 1, 1], [3, 2, 2], [3, 3, 4]]\n",
      "\n",
      "\n"
     ]
    }
   ],
   "source": [
    "output_step_1 = solution_collection.copy()\n",
    "\n",
    "(display_solutions(output_step_1))\n"
   ]
  },
  {
   "attachments": {},
   "cell_type": "markdown",
   "metadata": {},
   "source": [
    "##### STEP 2. Evaluation"
   ]
  },
  {
   "cell_type": "code",
   "execution_count": 14,
   "metadata": {},
   "outputs": [
    {
     "name": "stdout",
     "output_type": "stream",
     "text": [
      "[125.0, 116.0, 123.0]\n"
     ]
    }
   ],
   "source": [
    "def evaluation(solution):\n",
    "    current_step_mesin = np.zeros(jumlah_mesin)\n",
    "    base_kelompok = np.zeros(jumlah_kelompok)\n",
    "\n",
    "    def refine(i,j):\n",
    "        return (solution[i][j][0]-1, solution[i][j][2]-1)\n",
    "\n",
    "    for i in range (len(solution)):\n",
    "        for j in range (len(solution[i])):\n",
    "            feed_i, feed_j = refine(i,j)\n",
    "            time_used = get_from_matrix(feed_i, feed_j)\n",
    "            if (time_used != 0):\n",
    "                # print(i+1,j+1,time_used)\n",
    "                a = feed_i\n",
    "                b = feed_j\n",
    "                if (base_kelompok[a] >= current_step_mesin[b]):\n",
    "                    current_step_mesin[b] = base_kelompok[a] + get_from_matrix(a,b)\n",
    "                else:\n",
    "                    current_step_mesin[b] += get_from_matrix(a,b)\n",
    "                base_kelompok[a] = current_step_mesin[b]\n",
    "                # print(base_kelompok)\n",
    "                # print(current_step_mesin)\n",
    "    #     print(\"=====\")\n",
    "    # print(np.max(current_step_mesin))\n",
    "    return(np.max(current_step_mesin))\n",
    "    \n",
    "\n",
    "def step_2_evaluation(solution):\n",
    "    # print(solution)\n",
    "    # print(len(solution))\n",
    "    return [evaluation(solution[0]), evaluation(solution[1]), evaluation(solution[2])]\n",
    "\n",
    "output_step_2 = step_2_evaluation(solution_collection)\n",
    "print(output_step_2)"
   ]
  },
  {
   "cell_type": "code",
   "execution_count": 15,
   "metadata": {},
   "outputs": [
    {
     "data": {
      "text/plain": [
       "[[[[1, 1, 1], [1, 2, 2], [1, 3, 4]],\n",
       "  [[2, 1, 1], [2, 2, 2], [2, 3, 4]],\n",
       "  [[3, 1, 1], [3, 2, 2], [3, 3, 4]],\n",
       "  [[4, 1, 1], [4, 2, 2], [4, 3, 4]],\n",
       "  [[5, 1, 1], [5, 2, 2], [5, 3, 4]],\n",
       "  [[6, 1, 1], [6, 2, 2], [6, 3, 4]]],\n",
       " [[[6, 1, 1], [6, 2, 2], [6, 3, 4]],\n",
       "  [[5, 1, 1], [5, 2, 2], [5, 3, 4]],\n",
       "  [[4, 1, 1], [4, 2, 2], [4, 3, 4]],\n",
       "  [[3, 1, 1], [3, 2, 2], [3, 3, 4]],\n",
       "  [[2, 1, 1], [2, 2, 2], [2, 3, 4]],\n",
       "  [[1, 1, 1], [1, 2, 2], [1, 3, 4]]],\n",
       " [[[4, 1, 1], [4, 2, 2], [4, 3, 4]],\n",
       "  [[5, 1, 1], [5, 2, 2], [5, 3, 4]],\n",
       "  [[6, 1, 1], [6, 2, 2], [6, 3, 4]],\n",
       "  [[1, 1, 1], [1, 2, 2], [1, 3, 4]],\n",
       "  [[2, 1, 1], [2, 2, 2], [2, 3, 4]],\n",
       "  [[3, 1, 1], [3, 2, 2], [3, 3, 4]]]]"
      ]
     },
     "execution_count": 15,
     "metadata": {},
     "output_type": "execute_result"
    }
   ],
   "source": [
    "solution_collection"
   ]
  },
  {
   "attachments": {},
   "cell_type": "markdown",
   "metadata": {},
   "source": [
    "##### STEP 3. Selection"
   ]
  },
  {
   "cell_type": "code",
   "execution_count": 16,
   "metadata": {},
   "outputs": [
    {
     "name": "stdout",
     "output_type": "stream",
     "text": [
      "[0.32322225 0.34829984 0.3284779 ] [0.32322225 0.6715221  1.        ]\n"
     ]
    }
   ],
   "source": [
    "def generate_fitness(output):\n",
    "    result = np.zeros(len(output))\n",
    "    for i in range(len(output)):\n",
    "        result[i] = 1/output[i]\n",
    "    return result\n",
    "\n",
    "def prob_every_chromosome(fitness):\n",
    "    probabilities = np.zeros(len(fitness))\n",
    "    combine_prob = np.zeros(len(fitness))\n",
    "\n",
    "    sum_fitness = np.sum(fitness)\n",
    "    sum_prob = 0\n",
    "    \n",
    "    for i in range(len(fitness)):\n",
    "        probabilities[i] = fitness[i]/sum_fitness\n",
    "        sum_prob += probabilities[i]\n",
    "        combine_prob[i] =  sum_prob\n",
    "    return probabilities, combine_prob\n",
    "\n",
    "list_fitness = generate_fitness(output_step_2)\n",
    "list_probabilities, list_combinatory = prob_every_chromosome(list_fitness)\n",
    "print(list_probabilities,list_combinatory)\n",
    "\n"
   ]
  },
  {
   "cell_type": "code",
   "execution_count": 17,
   "metadata": {},
   "outputs": [
    {
     "name": "stdout",
     "output_type": "stream",
     "text": [
      "[0.992, 0.422, 0.962]\n"
     ]
    }
   ],
   "source": [
    "def random_number_generator(probabilities):\n",
    "    randomized = np.zeros(len(probabilities))\n",
    "    for i in range (len(probabilities)):\n",
    "        randomized[i] = np.random.rand()\n",
    "    return randomized\n",
    "\n",
    "list_random = random_number_generator(list_probabilities)\n",
    "\n",
    "list_random = [0.992, 0.422,0.962]\n",
    "print(list_random)"
   ]
  },
  {
   "cell_type": "code",
   "execution_count": 18,
   "metadata": {},
   "outputs": [
    {
     "name": "stdout",
     "output_type": "stream",
     "text": [
      "123456\n",
      "\n",
      "654321\n",
      "\n",
      "456123\n",
      "\n"
     ]
    }
   ],
   "source": [
    "def explain_matrix(matrix):\n",
    "    for i in range (len(matrix)):\n",
    "        for j in range (len(matrix[i])):\n",
    "            print(matrix[i][j][0][0],end=\"\")\n",
    "        print(\"\\n\")\n",
    "\n",
    "explain_matrix(base)"
   ]
  },
  {
   "cell_type": "code",
   "execution_count": 19,
   "metadata": {},
   "outputs": [],
   "source": [
    "def assign_combinatory_to_chromosome(list_random, list_combinatory, output_step_1):\n",
    "    clone_output_step_1 = output_step_1.copy()\n",
    "    for i in range (len(list_random)):\n",
    "        if (list_random[i] < list_combinatory[0]):\n",
    "            output_step_1[i] = clone_output_step_1[0]\n",
    "        elif (list_random[i] >= list_combinatory[0] and list_random[i] < list_combinatory[1]):\n",
    "            output_step_1[i] = clone_output_step_1[1]\n",
    "        else:\n",
    "            output_step_1[i] = clone_output_step_1[2]\n",
    "            \n",
    "    \n",
    "    return output_step_1\n",
    "\n",
    "output_step_3 = (assign_combinatory_to_chromosome(list_random, list_combinatory, output_step_1))\n",
    "# print(output_step_3)"
   ]
  },
  {
   "cell_type": "code",
   "execution_count": 20,
   "metadata": {},
   "outputs": [
    {
     "name": "stdout",
     "output_type": "stream",
     "text": [
      "456123\n",
      "\n",
      "654321\n",
      "\n",
      "456123\n",
      "\n"
     ]
    }
   ],
   "source": [
    "explain_matrix(output_step_3)"
   ]
  },
  {
   "attachments": {},
   "cell_type": "markdown",
   "metadata": {},
   "source": [
    "##### STEP 4. Crossover"
   ]
  },
  {
   "cell_type": "code",
   "execution_count": 21,
   "metadata": {},
   "outputs": [],
   "source": [
    "def process_3_crossover(output_step_3):\n",
    "    kromosom1, kromosom2, kromosom3 = output_step_3\n",
    "    \n",
    "    formulate1 = []\n",
    "\n",
    "    for index in range (len(kromosom1)):\n",
    "        if (kromosom1[index] == kromosom2[index]):\n",
    "            formulate1.append(kromosom1[index])\n",
    "        else:\n",
    "            formulate1.append(kromosom3[index])\n",
    "\n",
    "    kromosom1, kromosom2, kromosom3 = kromosom2, kromosom3, kromosom1\n",
    "\n",
    "\n",
    "    formulate2 = []\n",
    "\n",
    "    for index in range (len(kromosom1)):\n",
    "        if (kromosom1[index] == kromosom2[index]):\n",
    "            formulate2.append(kromosom1[index])\n",
    "        else:\n",
    "            formulate2.append(kromosom3[index])\n",
    "\n",
    "    kromosom1, kromosom2, kromosom3 = kromosom2, kromosom3, kromosom1\n",
    "\n",
    "\n",
    "    formulate3 = []\n",
    "\n",
    "    for index in range (len(kromosom1)):\n",
    "        if (kromosom1[index] == kromosom2[index]):\n",
    "            formulate3.append(kromosom1[index])\n",
    "        else:\n",
    "            formulate3.append(kromosom3[index])       \n",
    "\n",
    "    return[formulate1, formulate2, formulate3]\n",
    "\n",
    "# process_3_crossover()"
   ]
  },
  {
   "cell_type": "code",
   "execution_count": 22,
   "metadata": {},
   "outputs": [],
   "source": [
    "def process_2_crossover(crossover_point,output_step_3):\n",
    "    kromosom1, kromosom2, kromosom3 = output_step_3\n",
    "    # print(output_step_1)\n",
    "    \n",
    "    formulate1 = kromosom1[:crossover_point+1] + kromosom2[crossover_point+1:]\n",
    "    formulate2 = kromosom2[:crossover_point+1]+ kromosom1[crossover_point+1:]\n",
    "    formulate3 = kromosom3\n",
    "    return [formulate1, formulate2, formulate3]\n",
    "\n",
    "\n",
    "# print(process_2_crossover(2))"
   ]
  },
  {
   "cell_type": "code",
   "execution_count": 23,
   "metadata": {},
   "outputs": [
    {
     "name": "stdout",
     "output_type": "stream",
     "text": [
      "456321\n",
      "\n",
      "654123\n",
      "\n",
      "456123\n",
      "\n"
     ]
    }
   ],
   "source": [
    "def step_4_crossover(list_random_crossover,output_step_3):\n",
    "    list_random_crossover = random_number_generator(list_probabilities)\n",
    "    # list_random_crossover = [0.139161237267897, 0.140290355, 0.666743680741016]\n",
    "\n",
    "    def calculate_crossover_points():\n",
    "        count_crossover_points = 0\n",
    "        for i in range (len(list_random_crossover)):\n",
    "            if (list_random_crossover[i] <= crossover_rate):\n",
    "                count_crossover_points += 1\n",
    "        return count_crossover_points\n",
    "\n",
    "    count_crossover_points = calculate_crossover_points()\n",
    "    \n",
    "\n",
    "    while count_crossover_points == 1:\n",
    "        list_random_crossover = random_number_generator(list_probabilities)\n",
    "        count_crossover_points = calculate_crossover_points()\n",
    "\n",
    "    if (count_crossover_points == 3):\n",
    "        return process_3_crossover(output_step_3)\n",
    "    elif (count_crossover_points == 2):\n",
    "        return process_2_crossover(2,output_step_3)\n",
    "    else:\n",
    "        return step_4_crossover(list_probabilities, output_step_3)\n",
    "\n",
    "\n",
    "list_random_crossover = [0.139161237267897, 0.140290355, 0.666743680741016]\n",
    "output_step_4 = step_4_crossover(list_random_crossover,output_step_3)\n",
    "explain_matrix(output_step_4)"
   ]
  },
  {
   "attachments": {},
   "cell_type": "markdown",
   "metadata": {},
   "source": [
    "##### STEP 5. Mutation"
   ]
  },
  {
   "cell_type": "code",
   "execution_count": 24,
   "metadata": {},
   "outputs": [
    {
     "name": "stdout",
     "output_type": "stream",
     "text": [
      "2\n"
     ]
    }
   ],
   "source": [
    "print(number_of_mutation)"
   ]
  },
  {
   "cell_type": "code",
   "execution_count": 25,
   "metadata": {},
   "outputs": [
    {
     "data": {
      "text/plain": [
       "[[[6, 1, 1], [6, 2, 2], [6, 3, 4]],\n",
       " [[5, 1, 1], [5, 2, 2], [5, 3, 4]],\n",
       " [[4, 1, 1], [4, 2, 2], [4, 3, 4]],\n",
       " [[1, 1, 1], [1, 2, 2], [1, 3, 4]],\n",
       " [[2, 1, 1], [2, 2, 2], [2, 3, 4]],\n",
       " [[3, 1, 1], [3, 2, 2], [3, 3, 4]]]"
      ]
     },
     "execution_count": 25,
     "metadata": {},
     "output_type": "execute_result"
    }
   ],
   "source": [
    "output_step_4[r1//5]"
   ]
  },
  {
   "cell_type": "code",
   "execution_count": 26,
   "metadata": {},
   "outputs": [
    {
     "data": {
      "text/plain": [
       "[[[[4, 1, 1], [4, 2, 2], [4, 3, 4]],\n",
       "  [[5, 1, 1], [5, 2, 2], [5, 3, 4]],\n",
       "  [[6, 1, 1], [6, 2, 2], [6, 3, 4]],\n",
       "  [[3, 1, 1], [3, 2, 2], [3, 3, 4]],\n",
       "  [[2, 1, 1], [2, 2, 2], [2, 3, 4]],\n",
       "  [[1, 1, 1], [1, 2, 2], [1, 3, 4]]],\n",
       " [[[6, 1, 1], [6, 2, 2], [6, 3, 4]],\n",
       "  [[5, 1, 1], [5, 2, 2], [5, 3, 4]],\n",
       "  [[4, 1, 1], [4, 2, 2], [4, 3, 4]],\n",
       "  [[1, 1, 1], [1, 2, 2], [1, 3, 4]],\n",
       "  [[2, 1, 1], [2, 2, 2], [2, 3, 4]],\n",
       "  [[3, 1, 1], [3, 2, 2], [3, 3, 4]]],\n",
       " [[[4, 1, 1], [4, 2, 2], [4, 3, 4]],\n",
       "  [[5, 1, 1], [5, 2, 2], [5, 3, 4]],\n",
       "  [[6, 1, 1], [6, 2, 2], [6, 3, 4]],\n",
       "  [[1, 1, 1], [1, 2, 2], [1, 3, 4]],\n",
       "  [[2, 1, 1], [2, 2, 2], [2, 3, 4]],\n",
       "  [[3, 1, 1], [3, 2, 2], [3, 3, 4]]]]"
      ]
     },
     "execution_count": 26,
     "metadata": {},
     "output_type": "execute_result"
    }
   ],
   "source": [
    "second = output_step_4.copy()\n",
    "second"
   ]
  },
  {
   "cell_type": "code",
   "execution_count": 27,
   "metadata": {},
   "outputs": [],
   "source": [
    "deep_copy = output_step_4.copy()\n",
    "\n",
    "def mutation_process(deep_copy,array_value):\n",
    "    for r_value in array_value:\n",
    "        correspondence_machine = deep_copy[r_value//jumlah_mesin][r_value%jumlah_mesin -1]\n",
    "        for i in range (len(correspondence_machine)):\n",
    "            if (len(list_ws[i]) != 1):\n",
    "                available = list_ws[i].copy()\n",
    "                if (correspondence_machine[i][2] in available):\n",
    "                    available.remove(correspondence_machine[i][2])\n",
    "                correspondence_machine[i][2] = random.choice(available)\n",
    "    # display_solutions(deep_copy)\n",
    "    return deep_copy\n",
    "\n",
    "def display_solutions(second):\n",
    "    for i in range (len(second)):\n",
    "        for j in range (len(second[i])):\n",
    "            print(second[i][j],end=\"\\n\")\n",
    "        print(\"\\n\")\n"
   ]
  },
  {
   "cell_type": "code",
   "execution_count": 28,
   "metadata": {},
   "outputs": [],
   "source": [
    "def evaluation_step_5_after_randomized(step4,r1,r2):\n",
    "    # print(\"CALLED\")\n",
    "    deep_copy = step4.copy()\n",
    "    return mutation_process(deep_copy, [r1,r2])\n",
    "\n",
    "output_step_5 = (evaluation_step_5_after_randomized(output_step_4,r1,r2))"
   ]
  },
  {
   "cell_type": "code",
   "execution_count": 29,
   "metadata": {},
   "outputs": [
    {
     "name": "stdout",
     "output_type": "stream",
     "text": [
      "[[1, 1, 1], [1, 2, 2], [1, 3, 4]]\n",
      "[[2, 1, 1], [2, 2, 2], [2, 3, 4]]\n",
      "[[3, 1, 1], [3, 2, 2], [3, 3, 4]]\n",
      "[[4, 1, 1], [4, 2, 2], [4, 3, 4]]\n",
      "[[5, 1, 1], [5, 2, 2], [5, 3, 4]]\n",
      "[[6, 1, 1], [6, 2, 2], [6, 3, 4]]\n",
      "\n",
      "\n",
      "[[6, 1, 1], [6, 2, 2], [6, 3, 4]]\n",
      "[[5, 1, 1], [5, 2, 2], [5, 3, 4]]\n",
      "[[4, 1, 1], [4, 2, 2], [4, 3, 4]]\n",
      "[[3, 1, 1], [3, 2, 2], [3, 3, 4]]\n",
      "[[2, 1, 1], [2, 2, 2], [2, 3, 4]]\n",
      "[[1, 1, 1], [1, 2, 2], [1, 3, 4]]\n",
      "\n",
      "\n",
      "[[4, 1, 1], [4, 2, 2], [4, 3, 4]]\n",
      "[[5, 1, 1], [5, 2, 2], [5, 3, 4]]\n",
      "[[6, 1, 1], [6, 2, 2], [6, 3, 4]]\n",
      "[[1, 1, 1], [1, 2, 2], [1, 3, 4]]\n",
      "[[2, 1, 1], [2, 2, 2], [2, 3, 4]]\n",
      "[[3, 1, 1], [3, 2, 2], [3, 3, 4]]\n",
      "\n",
      "\n"
     ]
    }
   ],
   "source": [
    "solution_collection = [\n",
    "    generate_first_solution([1,2,3,4,5,6]),\n",
    "    generate_first_solution([6,5,4,3,2,1]),\n",
    "    generate_first_solution([4,5,6,1,2,3])\n",
    "]\n",
    "\n",
    "display_solutions(solution_collection)"
   ]
  },
  {
   "cell_type": "code",
   "execution_count": 30,
   "metadata": {},
   "outputs": [
    {
     "name": "stdout",
     "output_type": "stream",
     "text": [
      "[[4, 1, 1], [4, 2, 2], [4, 3, 4]]\n",
      "[[5, 1, 1], [5, 2, 2], [5, 3, 4]]\n",
      "[[6, 1, 1], [6, 2, 2], [6, 3, 4]]\n",
      "[[3, 1, 1], [3, 2, 2], [3, 3, 4]]\n",
      "[[2, 1, 1], [2, 2, 3], [2, 3, 6]]\n",
      "[[1, 1, 1], [1, 2, 2], [1, 3, 4]]\n",
      "\n",
      "\n",
      "[[6, 1, 1], [6, 2, 2], [6, 3, 4]]\n",
      "[[5, 1, 1], [5, 2, 2], [5, 3, 4]]\n",
      "[[4, 1, 1], [4, 2, 3], [4, 3, 6]]\n",
      "[[1, 1, 1], [1, 2, 2], [1, 3, 4]]\n",
      "[[2, 1, 1], [2, 2, 2], [2, 3, 4]]\n",
      "[[3, 1, 1], [3, 2, 2], [3, 3, 4]]\n",
      "\n",
      "\n",
      "[[4, 1, 1], [4, 2, 2], [4, 3, 4]]\n",
      "[[5, 1, 1], [5, 2, 2], [5, 3, 4]]\n",
      "[[6, 1, 1], [6, 2, 2], [6, 3, 4]]\n",
      "[[1, 1, 1], [1, 2, 2], [1, 3, 4]]\n",
      "[[2, 1, 1], [2, 2, 2], [2, 3, 4]]\n",
      "[[3, 1, 1], [3, 2, 2], [3, 3, 4]]\n",
      "\n",
      "\n"
     ]
    }
   ],
   "source": [
    "display_solutions(output_step_5)"
   ]
  },
  {
   "attachments": {},
   "cell_type": "markdown",
   "metadata": {},
   "source": [
    "##### STEP 6. EVALUATION"
   ]
  },
  {
   "cell_type": "code",
   "execution_count": 31,
   "metadata": {},
   "outputs": [],
   "source": [
    "\n",
    "def step_6_evaluation(solution):\n",
    "    # print(solution)\n",
    "    return [evaluation(solution[0]), evaluation(solution[1]), evaluation(solution[2])]\n",
    "\n",
    "output_step_6 = step_6_evaluation(output_step_5)"
   ]
  },
  {
   "attachments": {},
   "cell_type": "markdown",
   "metadata": {},
   "source": [
    "##### STEP 7. ELIMINATION"
   ]
  },
  {
   "cell_type": "code",
   "execution_count": 32,
   "metadata": {},
   "outputs": [
    {
     "name": "stdout",
     "output_type": "stream",
     "text": [
      "[125.0, 116.0, 123.0]\n",
      "[104.0, 105.0, 123.0]\n"
     ]
    }
   ],
   "source": [
    "print(output_step_2)\n",
    "print(output_step_6)"
   ]
  },
  {
   "cell_type": "code",
   "execution_count": 33,
   "metadata": {},
   "outputs": [
    {
     "name": "stdout",
     "output_type": "stream",
     "text": [
      "[[4, 1, 1], [4, 2, 2], [4, 3, 4]]\n",
      "[[5, 1, 1], [5, 2, 2], [5, 3, 4]]\n",
      "[[6, 1, 1], [6, 2, 2], [6, 3, 4]]\n",
      "[[1, 1, 1], [1, 2, 2], [1, 3, 4]]\n",
      "[[2, 1, 1], [2, 2, 2], [2, 3, 4]]\n",
      "[[3, 1, 1], [3, 2, 2], [3, 3, 4]]\n",
      "\n",
      "\n",
      "[[6, 1, 1], [6, 2, 2], [6, 3, 4]]\n",
      "[[5, 1, 1], [5, 2, 2], [5, 3, 4]]\n",
      "[[4, 1, 1], [4, 2, 3], [4, 3, 6]]\n",
      "[[3, 1, 1], [3, 2, 2], [3, 3, 4]]\n",
      "[[2, 1, 1], [2, 2, 3], [2, 3, 6]]\n",
      "[[1, 1, 1], [1, 2, 2], [1, 3, 4]]\n",
      "\n",
      "\n",
      "[[4, 1, 1], [4, 2, 2], [4, 3, 4]]\n",
      "[[5, 1, 1], [5, 2, 2], [5, 3, 4]]\n",
      "[[6, 1, 1], [6, 2, 2], [6, 3, 4]]\n",
      "[[1, 1, 1], [1, 2, 2], [1, 3, 4]]\n",
      "[[2, 1, 1], [2, 2, 2], [2, 3, 4]]\n",
      "[[3, 1, 1], [3, 2, 2], [3, 3, 4]]\n",
      "\n",
      "\n"
     ]
    }
   ],
   "source": [
    "display_solutions(output_step_1)"
   ]
  },
  {
   "cell_type": "code",
   "execution_count": 34,
   "metadata": {},
   "outputs": [],
   "source": [
    "def elimination_step_7(solution_collection, output_step_2, output_step_6, output_step_4):\n",
    "    \n",
    "    dictionary = {}\n",
    "    # print(base, output_step_2)\n",
    "    # print(output_step_4, output_step_6)\n",
    "    for i in range (len(output_step_1)):\n",
    "        dictionary[output_step_2[i]] = solution_collection[i].copy()\n",
    "\n",
    "    for i in range (len(output_step_4)):\n",
    "        dictionary[output_step_6[i]] = output_step_4[i]\n",
    "\n",
    "    # print(dictionary.keys())\n",
    "    \n",
    "    sorted_dict = dict(sorted(dictionary.items()))\n",
    "\n",
    "    # arr = list(sorted_dict.values())\n",
    "    # for i in range (len(arr)):\n",
    "    #     print(arr[i])\n",
    "    # print(sorted_dict.keys())\n",
    "    # print(sorted_dict.values())\n",
    "\n",
    "    return sorted_dict\n",
    "\n",
    "    # first_n_combinations = list(itertools.islice(sorted_dict.items(), num_solution))\n",
    "    # # sort_orders = sorted(dictionary.values(), key=lambda x: x[0], reverse=True)\n",
    "    # print(first_n_combinations)\n",
    "    # return first_n_combinations\n",
    "\n",
    "new_solution = (elimination_step_7(solution_collection, output_step_2, output_step_6, output_step_4))"
   ]
  },
  {
   "cell_type": "code",
   "execution_count": 35,
   "metadata": {},
   "outputs": [
    {
     "name": "stdout",
     "output_type": "stream",
     "text": [
      "[[1, 1, 1], [1, 2, 2], [1, 3, 4]]\n",
      "[[2, 1, 1], [2, 2, 2], [2, 3, 4]]\n",
      "[[3, 1, 1], [3, 2, 2], [3, 3, 4]]\n",
      "[[4, 1, 1], [4, 2, 2], [4, 3, 4]]\n",
      "[[5, 1, 1], [5, 2, 2], [5, 3, 4]]\n",
      "[[6, 1, 1], [6, 2, 2], [6, 3, 4]]\n",
      "\n",
      "\n",
      "[[6, 1, 1], [6, 2, 2], [6, 3, 4]]\n",
      "[[5, 1, 1], [5, 2, 2], [5, 3, 4]]\n",
      "[[4, 1, 1], [4, 2, 2], [4, 3, 4]]\n",
      "[[3, 1, 1], [3, 2, 2], [3, 3, 4]]\n",
      "[[2, 1, 1], [2, 2, 2], [2, 3, 4]]\n",
      "[[1, 1, 1], [1, 2, 2], [1, 3, 4]]\n",
      "\n",
      "\n",
      "[[4, 1, 1], [4, 2, 2], [4, 3, 4]]\n",
      "[[5, 1, 1], [5, 2, 2], [5, 3, 4]]\n",
      "[[6, 1, 1], [6, 2, 2], [6, 3, 4]]\n",
      "[[1, 1, 1], [1, 2, 2], [1, 3, 4]]\n",
      "[[2, 1, 1], [2, 2, 2], [2, 3, 4]]\n",
      "[[3, 1, 1], [3, 2, 2], [3, 3, 4]]\n",
      "\n",
      "\n"
     ]
    }
   ],
   "source": [
    "def display_solutions(second):\n",
    "    for i in range (len(second)):\n",
    "        for j in range (len(second[i])):\n",
    "            print(second[i][j],end=\"\\n\")\n",
    "        print(\"\\n\")\n",
    "display_solutions(solution_collection)"
   ]
  },
  {
   "cell_type": "code",
   "execution_count": 36,
   "metadata": {},
   "outputs": [
    {
     "name": "stdout",
     "output_type": "stream",
     "text": [
      "[[4, 1, 1], [4, 2, 2], [4, 3, 4]]\n",
      "[[5, 1, 1], [5, 2, 2], [5, 3, 4]]\n",
      "[[6, 1, 1], [6, 2, 2], [6, 3, 4]]\n",
      "[[3, 1, 1], [3, 2, 2], [3, 3, 4]]\n",
      "[[2, 1, 1], [2, 2, 3], [2, 3, 6]]\n",
      "[[1, 1, 1], [1, 2, 2], [1, 3, 4]]\n",
      "\n",
      "\n",
      "[[6, 1, 1], [6, 2, 2], [6, 3, 4]]\n",
      "[[5, 1, 1], [5, 2, 2], [5, 3, 4]]\n",
      "[[4, 1, 1], [4, 2, 3], [4, 3, 6]]\n",
      "[[1, 1, 1], [1, 2, 2], [1, 3, 4]]\n",
      "[[2, 1, 1], [2, 2, 2], [2, 3, 4]]\n",
      "[[3, 1, 1], [3, 2, 2], [3, 3, 4]]\n",
      "\n",
      "\n",
      "[[4, 1, 1], [4, 2, 2], [4, 3, 4]]\n",
      "[[5, 1, 1], [5, 2, 2], [5, 3, 4]]\n",
      "[[6, 1, 1], [6, 2, 2], [6, 3, 4]]\n",
      "[[1, 1, 1], [1, 2, 2], [1, 3, 4]]\n",
      "[[2, 1, 1], [2, 2, 2], [2, 3, 4]]\n",
      "[[3, 1, 1], [3, 2, 2], [3, 3, 4]]\n",
      "\n",
      "\n"
     ]
    }
   ],
   "source": [
    "display_solutions(output_step_4)"
   ]
  },
  {
   "attachments": {},
   "cell_type": "markdown",
   "metadata": {},
   "source": [
    "#### NEXT ITERATION CALLED HERE"
   ]
  },
  {
   "cell_type": "code",
   "execution_count": 37,
   "metadata": {},
   "outputs": [],
   "source": [
    "new_solution_used = (list(new_solution.values())[:num_solution])"
   ]
  },
  {
   "cell_type": "code",
   "execution_count": 38,
   "metadata": {},
   "outputs": [
    {
     "data": {
      "text/plain": [
       "[[[[4, 1, 1], [4, 2, 2], [4, 3, 4]],\n",
       "  [[5, 1, 1], [5, 2, 2], [5, 3, 4]],\n",
       "  [[6, 1, 1], [6, 2, 2], [6, 3, 4]],\n",
       "  [[3, 1, 1], [3, 2, 2], [3, 3, 4]],\n",
       "  [[2, 1, 1], [2, 2, 3], [2, 3, 6]],\n",
       "  [[1, 1, 1], [1, 2, 2], [1, 3, 4]]],\n",
       " [[[6, 1, 1], [6, 2, 2], [6, 3, 4]],\n",
       "  [[5, 1, 1], [5, 2, 2], [5, 3, 4]],\n",
       "  [[4, 1, 1], [4, 2, 3], [4, 3, 6]],\n",
       "  [[1, 1, 1], [1, 2, 2], [1, 3, 4]],\n",
       "  [[2, 1, 1], [2, 2, 2], [2, 3, 4]],\n",
       "  [[3, 1, 1], [3, 2, 2], [3, 3, 4]]],\n",
       " [[[6, 1, 1], [6, 2, 2], [6, 3, 4]],\n",
       "  [[5, 1, 1], [5, 2, 2], [5, 3, 4]],\n",
       "  [[4, 1, 1], [4, 2, 2], [4, 3, 4]],\n",
       "  [[3, 1, 1], [3, 2, 2], [3, 3, 4]],\n",
       "  [[2, 1, 1], [2, 2, 2], [2, 3, 4]],\n",
       "  [[1, 1, 1], [1, 2, 2], [1, 3, 4]]]]"
      ]
     },
     "execution_count": 38,
     "metadata": {},
     "output_type": "execute_result"
    }
   ],
   "source": [
    "new_solution_used"
   ]
  },
  {
   "cell_type": "code",
   "execution_count": 69,
   "metadata": {},
   "outputs": [
    {
     "name": "stdout",
     "output_type": "stream",
     "text": [
      "[113.0, 116.0, 123.0] [113.0, 116.0, 123.0, 125.0]\n",
      "[92.0, 113.0, 116.0] [92.0, 113.0, 116.0, 123.0]\n",
      "[92.0, 98.0, 113.0] [92.0, 98.0, 113.0, 116.0]\n",
      "[84.0, 92.0, 98.0] [84.0, 92.0, 98.0, 106.0, 113.0, 116.0]\n",
      "[84.0, 92.0, 98.0] [84.0, 92.0, 98.0]\n",
      "[84.0, 92.0, 98.0] [84.0, 92.0, 98.0, 103.0, 108.0]\n",
      "[84.0, 92.0, 98.0] [84.0, 92.0, 98.0]\n",
      "[84.0, 92.0, 98.0] [84.0, 92.0, 98.0]\n",
      "[84.0, 90.0, 92.0] [84.0, 90.0, 92.0, 98.0]\n",
      "[84.0, 90.0, 92.0] [84.0, 90.0, 92.0, 98.0]\n",
      "[84.0, 90.0, 92.0] [84.0, 90.0, 92.0]\n",
      "[84.0, 90.0, 92.0] [84.0, 90.0, 92.0]\n",
      "[84.0, 90.0, 92.0] [84.0, 90.0, 92.0]\n",
      "[84.0, 88.0, 90.0] [84.0, 88.0, 90.0, 92.0, 103.0, 109.0]\n",
      "[84.0, 88.0, 90.0] [84.0, 88.0, 90.0, 98.0, 103.0, 104.0]\n",
      "[84.0, 88.0, 90.0] [84.0, 88.0, 90.0, 92.0, 98.0]\n",
      "[84.0, 88.0, 90.0] [84.0, 88.0, 90.0]\n",
      "[84.0, 88.0, 90.0] [84.0, 88.0, 90.0, 92.0]\n",
      "[84.0, 88.0, 90.0] [84.0, 88.0, 90.0, 98.0, 105.0]\n",
      "[84.0, 88.0, 90.0] [84.0, 88.0, 90.0, 92.0, 98.0]\n",
      "[84.0, 88.0, 90.0] [84.0, 88.0, 90.0]\n",
      "[84.0, 88.0, 90.0] [84.0, 88.0, 90.0]\n",
      "[84.0, 88.0, 90.0] [84.0, 88.0, 90.0, 92.0]\n",
      "[84.0, 88.0, 90.0] [84.0, 88.0, 90.0, 98.0]\n",
      "[84.0, 88.0, 90.0] [84.0, 88.0, 90.0]\n",
      "[84.0, 88.0, 90.0] [84.0, 88.0, 90.0, 98.0]\n",
      "[84.0, 88.0, 90.0] [84.0, 88.0, 90.0, 92.0]\n",
      "[84.0, 88.0, 90.0] [84.0, 88.0, 90.0, 98.0]\n",
      "[84.0, 88.0, 90.0] [84.0, 88.0, 90.0, 104.0]\n",
      "[84.0, 88.0, 90.0] [84.0, 88.0, 90.0, 92.0]\n",
      "[84.0, 88.0, 90.0] [84.0, 88.0, 90.0]\n",
      "[84.0, 88.0, 90.0] [84.0, 88.0, 90.0, 92.0]\n",
      "[84.0, 88.0, 90.0] [84.0, 88.0, 90.0]\n",
      "[84.0, 88.0, 90.0] [84.0, 88.0, 90.0, 106.0]\n",
      "[84.0, 88.0, 90.0] [84.0, 88.0, 90.0, 103.0]\n",
      "[84.0, 88.0, 90.0] [84.0, 88.0, 90.0, 103.0]\n",
      "[84.0, 88.0, 90.0] [84.0, 88.0, 90.0, 98.0]\n",
      "[84.0, 88.0, 90.0] [84.0, 88.0, 90.0, 92.0]\n",
      "[84.0, 88.0, 90.0] [84.0, 88.0, 90.0, 92.0, 98.0]\n",
      "[84.0, 88.0, 90.0] [84.0, 88.0, 90.0]\n",
      "[84.0, 88.0, 90.0] [84.0, 88.0, 90.0, 92.0, 109.0]\n",
      "[84.0, 88.0, 90.0] [84.0, 88.0, 90.0, 92.0]\n",
      "[84.0, 88.0, 90.0] [84.0, 88.0, 90.0]\n",
      "[84.0, 88.0, 90.0] [84.0, 88.0, 90.0]\n",
      "[84.0, 88.0, 90.0] [84.0, 88.0, 90.0, 103.0]\n",
      "[84.0, 88.0, 90.0] [84.0, 88.0, 90.0]\n",
      "[84.0, 88.0, 90.0] [84.0, 88.0, 90.0, 103.0, 109.0]\n",
      "[84.0, 88.0, 90.0] [84.0, 88.0, 90.0, 103.0]\n",
      "[84.0, 88.0, 90.0] [84.0, 88.0, 90.0, 109.0]\n",
      "[84.0, 88.0, 90.0] [84.0, 88.0, 90.0, 107.0]\n",
      "[84.0, 88.0, 90.0] [84.0, 88.0, 90.0, 101.0]\n",
      "[84.0, 88.0, 90.0] [84.0, 88.0, 90.0, 98.0]\n",
      "[84.0, 88.0, 90.0] [84.0, 88.0, 90.0, 104.0]\n",
      "[84.0, 88.0, 90.0] [84.0, 88.0, 90.0]\n",
      "[84.0, 88.0, 90.0] [84.0, 88.0, 90.0, 101.0]\n",
      "[84.0, 88.0, 90.0] [84.0, 88.0, 90.0, 103.0]\n",
      "[84.0, 88.0, 90.0] [84.0, 88.0, 90.0, 92.0, 98.0]\n",
      "[84.0, 88.0, 90.0] [84.0, 88.0, 90.0, 101.0]\n",
      "[84.0, 88.0, 89.0] [84.0, 88.0, 89.0, 90.0]\n",
      "[84.0, 88.0, 89.0] [84.0, 88.0, 89.0]\n",
      "[84.0, 88.0, 89.0] [84.0, 88.0, 89.0, 92.0]\n",
      "[84.0, 88.0, 89.0] [84.0, 88.0, 89.0, 103.0]\n",
      "[84.0, 88.0, 89.0] [84.0, 88.0, 89.0, 103.0]\n",
      "[84.0, 88.0, 89.0] [84.0, 88.0, 89.0, 98.0]\n",
      "[84.0, 88.0, 89.0] [84.0, 88.0, 89.0, 103.0]\n",
      "[84.0, 88.0, 89.0] [84.0, 88.0, 89.0, 103.0]\n",
      "[84.0, 88.0, 89.0] [84.0, 88.0, 89.0, 90.0]\n",
      "[84.0, 88.0, 89.0] [84.0, 88.0, 89.0, 103.0]\n",
      "[84.0, 88.0, 89.0] [84.0, 88.0, 89.0, 92.0, 103.0, 108.0]\n",
      "[84.0, 88.0, 89.0] [84.0, 88.0, 89.0, 106.0]\n",
      "[84.0, 88.0, 89.0] [84.0, 88.0, 89.0]\n",
      "[84.0, 88.0, 89.0] [84.0, 88.0, 89.0]\n",
      "[84.0, 88.0, 89.0] [84.0, 88.0, 89.0, 101.0, 104.0]\n",
      "[84.0, 88.0, 89.0] [84.0, 88.0, 89.0, 103.0]\n",
      "[84.0, 88.0, 89.0] [84.0, 88.0, 89.0, 103.0]\n",
      "[84.0, 88.0, 89.0] [84.0, 88.0, 89.0, 92.0]\n",
      "[84.0, 88.0, 89.0] [84.0, 88.0, 89.0]\n",
      "[84.0, 88.0, 89.0] [84.0, 88.0, 89.0]\n",
      "[84.0, 88.0, 89.0] [84.0, 88.0, 89.0, 98.0, 101.0]\n",
      "[84.0, 88.0, 89.0] [84.0, 88.0, 89.0, 109.0]\n",
      "[84.0, 88.0, 89.0] [84.0, 88.0, 89.0, 98.0, 105.0]\n",
      "[84.0, 88.0, 89.0] [84.0, 88.0, 89.0, 103.0]\n",
      "[84.0, 88.0, 89.0] [84.0, 88.0, 89.0, 92.0, 94.0]\n",
      "[84.0, 88.0, 89.0] [84.0, 88.0, 89.0]\n",
      "[84.0, 88.0, 89.0] [84.0, 88.0, 89.0, 100.0]\n",
      "[84.0, 88.0, 89.0] [84.0, 88.0, 89.0, 92.0]\n",
      "[84.0, 88.0, 89.0] [84.0, 88.0, 89.0]\n",
      "[84.0, 88.0, 89.0] [84.0, 88.0, 89.0, 105.0]\n",
      "[84.0, 88.0, 89.0] [84.0, 88.0, 89.0, 94.0]\n",
      "[84.0, 88.0, 89.0] [84.0, 88.0, 89.0, 105.0]\n",
      "[84.0, 88.0, 89.0] [84.0, 88.0, 89.0, 103.0]\n",
      "[84.0, 88.0, 89.0] [84.0, 88.0, 89.0, 101.0]\n",
      "[84.0, 88.0, 89.0] [84.0, 88.0, 89.0, 103.0]\n",
      "[84.0, 88.0, 89.0] [84.0, 88.0, 89.0]\n",
      "[84.0, 88.0, 89.0] [84.0, 88.0, 89.0, 92.0, 100.0]\n",
      "[84.0, 88.0, 89.0] [84.0, 88.0, 89.0, 103.0]\n",
      "[84.0, 88.0, 89.0] [84.0, 88.0, 89.0, 101.0]\n",
      "[84.0, 88.0, 89.0] [84.0, 88.0, 89.0, 92.0, 103.0]\n",
      "[84.0, 88.0, 89.0] [84.0, 88.0, 89.0, 98.0]\n",
      "[84.0, 88.0, 89.0] [84.0, 88.0, 89.0, 98.0, 104.0]\n",
      "[84.0, 88.0, 89.0] [84.0, 88.0, 89.0, 92.0]\n",
      "[84.0, 88.0, 89.0] [84.0, 88.0, 89.0, 103.0]\n",
      "[84.0, 88.0, 89.0] [84.0, 88.0, 89.0]\n",
      "[84.0, 88.0, 89.0] [84.0, 88.0, 89.0, 92.0, 101.0, 107.0]\n",
      "[84.0, 88.0, 89.0] [84.0, 88.0, 89.0, 98.0]\n",
      "[84.0, 88.0, 89.0] [84.0, 88.0, 89.0, 101.0]\n",
      "[84.0, 88.0, 89.0] [84.0, 88.0, 89.0, 103.0]\n",
      "[84.0, 88.0, 89.0] [84.0, 88.0, 89.0, 98.0, 105.0]\n",
      "[84.0, 88.0, 89.0] [84.0, 88.0, 89.0, 92.0]\n",
      "[84.0, 88.0, 89.0] [84.0, 88.0, 89.0, 103.0, 104.0]\n",
      "[84.0, 88.0, 89.0] [84.0, 88.0, 89.0, 103.0]\n",
      "[84.0, 88.0, 89.0] [84.0, 88.0, 89.0, 103.0]\n",
      "[84.0, 88.0, 89.0] [84.0, 88.0, 89.0, 92.0]\n",
      "[84.0, 88.0, 89.0] [84.0, 88.0, 89.0, 98.0, 104.0]\n",
      "[84.0, 88.0, 89.0] [84.0, 88.0, 89.0, 104.0]\n",
      "[84.0, 88.0, 89.0] [84.0, 88.0, 89.0, 92.0]\n",
      "[84.0, 88.0, 89.0] [84.0, 88.0, 89.0]\n",
      "[84.0, 88.0, 89.0] [84.0, 88.0, 89.0, 103.0]\n",
      "[84.0, 88.0, 89.0] [84.0, 88.0, 89.0]\n",
      "[84.0, 88.0, 89.0] [84.0, 88.0, 89.0]\n",
      "[84.0, 88.0, 89.0] [84.0, 88.0, 89.0, 103.0, 105.0]\n",
      "[84.0, 88.0, 89.0] [84.0, 88.0, 89.0]\n",
      "[84.0, 88.0, 89.0] [84.0, 88.0, 89.0, 101.0]\n",
      "[84.0, 88.0, 89.0] [84.0, 88.0, 89.0]\n",
      "[84.0, 88.0, 89.0] [84.0, 88.0, 89.0, 101.0]\n",
      "[84.0, 88.0, 89.0] [84.0, 88.0, 89.0, 98.0]\n",
      "[84.0, 88.0, 89.0] [84.0, 88.0, 89.0, 103.0]\n",
      "[84.0, 88.0, 89.0] [84.0, 88.0, 89.0, 101.0]\n",
      "[84.0, 88.0, 89.0] [84.0, 88.0, 89.0, 107.0]\n",
      "[84.0, 88.0, 89.0] [84.0, 88.0, 89.0]\n",
      "[84.0, 88.0, 89.0] [84.0, 88.0, 89.0]\n",
      "[84.0, 88.0, 89.0] [84.0, 88.0, 89.0, 103.0]\n",
      "[84.0, 88.0, 89.0] [84.0, 88.0, 89.0, 103.0]\n",
      "[84.0, 88.0, 89.0] [84.0, 88.0, 89.0, 92.0]\n",
      "[84.0, 88.0, 89.0] [84.0, 88.0, 89.0, 92.0, 98.0]\n",
      "[84.0, 88.0, 89.0] [84.0, 88.0, 89.0]\n",
      "[84.0, 88.0, 89.0] [84.0, 88.0, 89.0]\n",
      "[84.0, 88.0, 89.0] [84.0, 88.0, 89.0]\n",
      "[84.0, 88.0, 89.0] [84.0, 88.0, 89.0, 103.0]\n",
      "[84.0, 88.0, 89.0] [84.0, 88.0, 89.0, 103.0]\n",
      "[84.0, 88.0, 89.0] [84.0, 88.0, 89.0]\n",
      "[84.0, 88.0, 89.0] [84.0, 88.0, 89.0, 101.0]\n",
      "[84.0, 88.0, 89.0] [84.0, 88.0, 89.0, 98.0]\n",
      "[84.0, 88.0, 89.0] [84.0, 88.0, 89.0, 92.0]\n",
      "[84.0, 88.0, 89.0] [84.0, 88.0, 89.0, 98.0]\n",
      "[84.0, 88.0, 89.0] [84.0, 88.0, 89.0]\n",
      "[84.0, 88.0, 89.0] [84.0, 88.0, 89.0, 103.0]\n",
      "[84.0, 88.0, 89.0] [84.0, 88.0, 89.0, 101.0]\n",
      "[84.0, 88.0, 89.0] [84.0, 88.0, 89.0, 103.0]\n",
      "[84.0, 88.0, 89.0] [84.0, 88.0, 89.0, 98.0]\n",
      "[84.0, 88.0, 89.0] [84.0, 88.0, 89.0, 101.0]\n",
      "[84.0, 88.0, 89.0] [84.0, 88.0, 89.0]\n",
      "[84.0, 88.0, 89.0] [84.0, 88.0, 89.0]\n",
      "[84.0, 88.0, 89.0] [84.0, 88.0, 89.0]\n",
      "[84.0, 88.0, 89.0] [84.0, 88.0, 89.0, 103.0]\n",
      "[84.0, 88.0, 89.0] [84.0, 88.0, 89.0, 104.0]\n",
      "[84.0, 88.0, 89.0] [84.0, 88.0, 89.0, 103.0]\n",
      "[84.0, 88.0, 89.0] [84.0, 88.0, 89.0, 92.0]\n",
      "[84.0, 88.0, 89.0] [84.0, 88.0, 89.0, 98.0]\n",
      "[84.0, 88.0, 89.0] [84.0, 88.0, 89.0, 98.0, 104.0, 107.0]\n",
      "[84.0, 88.0, 89.0] [84.0, 88.0, 89.0, 103.0, 104.0]\n",
      "[84.0, 88.0, 89.0] [84.0, 88.0, 89.0, 92.0, 97.0]\n",
      "[84.0, 88.0, 89.0] [84.0, 88.0, 89.0, 101.0]\n",
      "[84.0, 88.0, 89.0] [84.0, 88.0, 89.0, 98.0]\n",
      "[84.0, 88.0, 89.0] [84.0, 88.0, 89.0]\n",
      "[84.0, 88.0, 89.0] [84.0, 88.0, 89.0, 92.0]\n",
      "[84.0, 88.0, 89.0] [84.0, 88.0, 89.0, 92.0, 98.0]\n",
      "[84.0, 88.0, 89.0] [84.0, 88.0, 89.0]\n",
      "[84.0, 88.0, 89.0] [84.0, 88.0, 89.0, 98.0, 104.0]\n",
      "[84.0, 88.0, 89.0] [84.0, 88.0, 89.0, 98.0]\n",
      "[84.0, 88.0, 89.0] [84.0, 88.0, 89.0, 98.0, 105.0]\n",
      "[84.0, 88.0, 89.0] [84.0, 88.0, 89.0, 103.0]\n",
      "[84.0, 88.0, 89.0] [84.0, 88.0, 89.0]\n",
      "[84.0, 88.0, 89.0] [84.0, 88.0, 89.0, 104.0]\n",
      "[84.0, 88.0, 89.0] [84.0, 88.0, 89.0, 103.0]\n",
      "[84.0, 88.0, 89.0] [84.0, 88.0, 89.0, 104.0]\n",
      "[84.0, 88.0, 89.0] [84.0, 88.0, 89.0]\n",
      "[84.0, 88.0, 89.0] [84.0, 88.0, 89.0, 103.0]\n",
      "[84.0, 88.0, 89.0] [84.0, 88.0, 89.0, 92.0]\n",
      "[84.0, 88.0, 89.0] [84.0, 88.0, 89.0, 101.0]\n",
      "[84.0, 88.0, 89.0] [84.0, 88.0, 89.0, 90.0, 105.0, 109.0]\n",
      "[84.0, 88.0, 89.0] [84.0, 88.0, 89.0, 93.0]\n",
      "[84.0, 88.0, 89.0] [84.0, 88.0, 89.0, 103.0]\n",
      "[84.0, 88.0, 89.0] [84.0, 88.0, 89.0, 92.0]\n",
      "[84.0, 88.0, 89.0] [84.0, 88.0, 89.0]\n",
      "[84.0, 88.0, 89.0] [84.0, 88.0, 89.0, 92.0]\n",
      "[84.0, 88.0, 89.0] [84.0, 88.0, 89.0]\n",
      "[84.0, 88.0, 89.0] [84.0, 88.0, 89.0, 103.0]\n",
      "[84.0, 88.0, 89.0] [84.0, 88.0, 89.0, 103.0]\n",
      "[84.0, 88.0, 89.0] [84.0, 88.0, 89.0, 101.0]\n",
      "[84.0, 88.0, 89.0] [84.0, 88.0, 89.0, 101.0, 107.0]\n",
      "[84.0, 88.0, 89.0] [84.0, 88.0, 89.0]\n",
      "[84.0, 88.0, 89.0] [84.0, 88.0, 89.0, 103.0]\n",
      "[84.0, 88.0, 89.0] [84.0, 88.0, 89.0, 103.0]\n",
      "[84.0, 88.0, 89.0] [84.0, 88.0, 89.0, 98.0]\n",
      "[84.0, 88.0, 89.0] [84.0, 88.0, 89.0, 90.0]\n",
      "[84.0, 88.0, 89.0] [84.0, 88.0, 89.0, 103.0]\n",
      "[84.0, 88.0, 89.0] [84.0, 88.0, 89.0, 103.0, 104.0]\n",
      "[84.0, 88.0, 89.0] [84.0, 88.0, 89.0, 98.0]\n",
      "[84.0, 88.0, 89.0] [84.0, 88.0, 89.0, 98.0]\n",
      "[84.0, 88.0, 89.0] [84.0, 88.0, 89.0]\n",
      "[84.0, 88.0, 89.0] [84.0, 88.0, 89.0, 90.0]\n",
      "[84.0, 88.0, 89.0] [84.0, 88.0, 89.0]\n",
      "[84.0, 88.0, 89.0] [84.0, 88.0, 89.0, 90.0, 92.0]\n",
      "[84.0, 88.0, 89.0] [84.0, 88.0, 89.0, 103.0]\n",
      "[84.0, 88.0, 89.0] [84.0, 88.0, 89.0, 109.0]\n",
      "[84.0, 88.0, 89.0] [84.0, 88.0, 89.0]\n",
      "[84.0, 88.0, 89.0] [84.0, 88.0, 89.0, 103.0, 104.0]\n",
      "[84.0, 88.0, 89.0] [84.0, 88.0, 89.0]\n",
      "[84.0, 88.0, 89.0] [84.0, 88.0, 89.0]\n",
      "[84.0, 88.0, 89.0] [84.0, 88.0, 89.0, 107.0]\n",
      "[84.0, 88.0, 89.0] [84.0, 88.0, 89.0]\n",
      "[84.0, 88.0, 89.0] [84.0, 88.0, 89.0, 98.0, 104.0]\n",
      "[84.0, 88.0, 89.0] [84.0, 88.0, 89.0]\n",
      "[84.0, 88.0, 89.0] [84.0, 88.0, 89.0, 103.0]\n",
      "[84.0, 88.0, 89.0] [84.0, 88.0, 89.0, 103.0]\n",
      "[84.0, 88.0, 89.0] [84.0, 88.0, 89.0]\n",
      "[84.0, 88.0, 89.0] [84.0, 88.0, 89.0, 101.0, 107.0]\n",
      "[84.0, 88.0, 89.0] [84.0, 88.0, 89.0, 92.0]\n",
      "[84.0, 88.0, 89.0] [84.0, 88.0, 89.0, 101.0]\n",
      "[84.0, 88.0, 89.0] [84.0, 88.0, 89.0, 92.0]\n",
      "[84.0, 88.0, 89.0] [84.0, 88.0, 89.0, 98.0]\n",
      "[84.0, 88.0, 89.0] [84.0, 88.0, 89.0, 103.0]\n",
      "[84.0, 88.0, 89.0] [84.0, 88.0, 89.0, 98.0]\n",
      "[84.0, 88.0, 89.0] [84.0, 88.0, 89.0, 92.0]\n",
      "[84.0, 88.0, 89.0] [84.0, 88.0, 89.0, 103.0]\n",
      "[84.0, 88.0, 89.0] [84.0, 88.0, 89.0, 92.0]\n",
      "[84.0, 88.0, 89.0] [84.0, 88.0, 89.0]\n",
      "[84.0, 88.0, 89.0] [84.0, 88.0, 89.0, 92.0]\n",
      "[84.0, 88.0, 89.0] [84.0, 88.0, 89.0, 103.0]\n",
      "[84.0, 88.0, 89.0] [84.0, 88.0, 89.0, 98.0]\n",
      "[84.0, 88.0, 89.0] [84.0, 88.0, 89.0]\n",
      "[84.0, 88.0, 89.0] [84.0, 88.0, 89.0, 103.0]\n",
      "[84.0, 88.0, 89.0] [84.0, 88.0, 89.0]\n",
      "[84.0, 88.0, 89.0] [84.0, 88.0, 89.0, 92.0, 97.0, 103.0]\n",
      "[84.0, 88.0, 89.0] [84.0, 88.0, 89.0]\n",
      "[84.0, 88.0, 89.0] [84.0, 88.0, 89.0, 92.0]\n",
      "[84.0, 88.0, 89.0] [84.0, 88.0, 89.0]\n",
      "[84.0, 88.0, 89.0] [84.0, 88.0, 89.0, 103.0]\n",
      "[84.0, 88.0, 89.0] [84.0, 88.0, 89.0, 90.0]\n",
      "[84.0, 88.0, 89.0] [84.0, 88.0, 89.0, 98.0]\n",
      "[84.0, 88.0, 89.0] [84.0, 88.0, 89.0]\n",
      "[84.0, 88.0, 89.0] [84.0, 88.0, 89.0]\n",
      "[84.0, 88.0, 89.0] [84.0, 88.0, 89.0]\n",
      "[84.0, 88.0, 89.0] [84.0, 88.0, 89.0, 103.0]\n",
      "[84.0, 88.0, 89.0] [84.0, 88.0, 89.0, 98.0]\n",
      "[84.0, 88.0, 89.0] [84.0, 88.0, 89.0]\n",
      "[84.0, 88.0, 89.0] [84.0, 88.0, 89.0, 97.0, 98.0]\n",
      "[84.0, 88.0, 89.0] [84.0, 88.0, 89.0, 101.0]\n",
      "[84.0, 88.0, 89.0] [84.0, 88.0, 89.0, 98.0]\n",
      "[84.0, 88.0, 89.0] [84.0, 88.0, 89.0]\n",
      "[84.0, 88.0, 89.0] [84.0, 88.0, 89.0, 101.0, 107.0]\n",
      "[84.0, 88.0, 89.0] [84.0, 88.0, 89.0, 101.0]\n",
      "[84.0, 88.0, 89.0] [84.0, 88.0, 89.0, 103.0]\n",
      "[84.0, 88.0, 89.0] [84.0, 88.0, 89.0, 98.0]\n",
      "[84.0, 88.0, 89.0] [84.0, 88.0, 89.0, 101.0]\n",
      "[84.0, 88.0, 89.0] [84.0, 88.0, 89.0, 90.0]\n",
      "[84.0, 88.0, 89.0] [84.0, 88.0, 89.0]\n",
      "[84.0, 88.0, 89.0] [84.0, 88.0, 89.0]\n",
      "[84.0, 88.0, 89.0] [84.0, 88.0, 89.0, 92.0]\n",
      "[84.0, 88.0, 89.0] [84.0, 88.0, 89.0, 92.0, 97.0]\n",
      "[84.0, 88.0, 89.0] [84.0, 88.0, 89.0, 98.0, 103.0, 104.0]\n",
      "[84.0, 88.0, 89.0] [84.0, 88.0, 89.0, 92.0]\n",
      "[84.0, 88.0, 89.0] [84.0, 88.0, 89.0, 101.0, 107.0]\n",
      "[84.0, 88.0, 89.0] [84.0, 88.0, 89.0]\n",
      "[84.0, 88.0, 89.0] [84.0, 88.0, 89.0, 92.0]\n",
      "[84.0, 88.0, 89.0] [84.0, 88.0, 89.0]\n",
      "[84.0, 88.0, 89.0] [84.0, 88.0, 89.0, 98.0]\n",
      "[84.0, 88.0, 89.0] [84.0, 88.0, 89.0, 98.0, 104.0]\n",
      "[84.0, 88.0, 89.0] [84.0, 88.0, 89.0, 103.0, 104.0]\n",
      "[84.0, 88.0, 89.0] [84.0, 88.0, 89.0]\n",
      "[84.0, 88.0, 89.0] [84.0, 88.0, 89.0, 98.0, 104.0]\n",
      "[84.0, 88.0, 89.0] [84.0, 88.0, 89.0]\n",
      "[84.0, 88.0, 89.0] [84.0, 88.0, 89.0, 92.0, 101.0]\n",
      "[84.0, 88.0, 89.0] [84.0, 88.0, 89.0, 103.0]\n",
      "[84.0, 88.0, 89.0] [84.0, 88.0, 89.0, 92.0]\n",
      "[84.0, 88.0, 89.0] [84.0, 88.0, 89.0, 108.0]\n",
      "[84.0, 88.0, 89.0] [84.0, 88.0, 89.0, 103.0]\n",
      "[84.0, 88.0, 89.0] [84.0, 88.0, 89.0, 103.0]\n",
      "[84.0, 88.0, 89.0] [84.0, 88.0, 89.0, 104.0]\n",
      "[84.0, 88.0, 89.0] [84.0, 88.0, 89.0, 101.0]\n",
      "[84.0, 88.0, 89.0] [84.0, 88.0, 89.0, 103.0]\n",
      "[84.0, 88.0, 89.0] [84.0, 88.0, 89.0]\n",
      "[84.0, 88.0, 89.0] [84.0, 88.0, 89.0, 105.0]\n",
      "[84.0, 88.0, 89.0] [84.0, 88.0, 89.0]\n",
      "[84.0, 88.0, 89.0] [84.0, 88.0, 89.0]\n",
      "[84.0, 88.0, 89.0] [84.0, 88.0, 89.0, 106.0, 112.0]\n",
      "[84.0, 88.0, 89.0] [84.0, 88.0, 89.0, 92.0]\n",
      "[84.0, 88.0, 89.0] [84.0, 88.0, 89.0, 103.0]\n",
      "[84.0, 88.0, 89.0] [84.0, 88.0, 89.0, 92.0]\n",
      "[84.0, 88.0, 89.0] [84.0, 88.0, 89.0]\n",
      "[84.0, 88.0, 89.0] [84.0, 88.0, 89.0, 103.0]\n",
      "[84.0, 88.0, 89.0] [84.0, 88.0, 89.0, 103.0]\n",
      "[84.0, 88.0, 89.0] [84.0, 88.0, 89.0, 103.0]\n",
      "[84.0, 88.0, 89.0] [84.0, 88.0, 89.0, 101.0]\n",
      "[84.0, 88.0, 89.0] [84.0, 88.0, 89.0, 98.0]\n",
      "[84.0, 88.0, 89.0] [84.0, 88.0, 89.0, 92.0]\n",
      "[84.0, 88.0, 89.0] [84.0, 88.0, 89.0, 90.0]\n",
      "[84.0, 88.0, 89.0] [84.0, 88.0, 89.0, 92.0]\n",
      "[84.0, 88.0, 89.0] [84.0, 88.0, 89.0]\n",
      "[84.0, 88.0, 89.0] [84.0, 88.0, 89.0, 92.0, 103.0]\n",
      "[84.0, 88.0, 89.0] [84.0, 88.0, 89.0, 98.0]\n",
      "[84.0, 88.0, 89.0] [84.0, 88.0, 89.0, 103.0]\n",
      "[84.0, 88.0, 89.0] [84.0, 88.0, 89.0, 109.0]\n",
      "[84.0, 88.0, 89.0] [84.0, 88.0, 89.0]\n",
      "[84.0, 88.0, 89.0] [84.0, 88.0, 89.0, 92.0]\n",
      "[84.0, 88.0, 89.0] [84.0, 88.0, 89.0]\n",
      "[84.0, 88.0, 89.0] [84.0, 88.0, 89.0]\n",
      "[84.0, 88.0, 89.0] [84.0, 88.0, 89.0]\n",
      "[84.0, 88.0, 89.0] [84.0, 88.0, 89.0, 93.0]\n",
      "[84.0, 88.0, 89.0] [84.0, 88.0, 89.0, 101.0]\n",
      "[84.0, 88.0, 89.0] [84.0, 88.0, 89.0]\n",
      "[84.0, 88.0, 89.0] [84.0, 88.0, 89.0, 92.0]\n",
      "[84.0, 88.0, 89.0] [84.0, 88.0, 89.0]\n",
      "[84.0, 88.0, 89.0] [84.0, 88.0, 89.0, 90.0]\n",
      "[84.0, 88.0, 89.0] [84.0, 88.0, 89.0, 92.0]\n",
      "[84.0, 88.0, 89.0] [84.0, 88.0, 89.0, 92.0, 98.0]\n",
      "[84.0, 88.0, 89.0] [84.0, 88.0, 89.0]\n",
      "[84.0, 88.0, 89.0] [84.0, 88.0, 89.0, 103.0]\n",
      "[84.0, 88.0, 89.0] [84.0, 88.0, 89.0]\n",
      "[84.0, 88.0, 89.0] [84.0, 88.0, 89.0]\n",
      "[84.0, 88.0, 89.0] [84.0, 88.0, 89.0, 106.0]\n",
      "[84.0, 88.0, 89.0] [84.0, 88.0, 89.0, 98.0, 101.0]\n",
      "[84.0, 88.0, 89.0] [84.0, 88.0, 89.0, 98.0]\n",
      "[84.0, 88.0, 89.0] [84.0, 88.0, 89.0, 92.0, 97.0]\n",
      "[84.0, 88.0, 89.0] [84.0, 88.0, 89.0, 103.0]\n",
      "[84.0, 88.0, 89.0] [84.0, 88.0, 89.0, 92.0]\n",
      "[84.0, 88.0, 89.0] [84.0, 88.0, 89.0]\n",
      "[84.0, 88.0, 89.0] [84.0, 88.0, 89.0]\n",
      "[84.0, 88.0, 89.0] [84.0, 88.0, 89.0]\n",
      "[84.0, 88.0, 89.0] [84.0, 88.0, 89.0, 92.0]\n",
      "[84.0, 88.0, 89.0] [84.0, 88.0, 89.0, 103.0]\n",
      "[84.0, 88.0, 89.0] [84.0, 88.0, 89.0, 92.0]\n",
      "[84.0, 88.0, 89.0] [84.0, 88.0, 89.0, 98.0]\n",
      "[84.0, 88.0, 89.0] [84.0, 88.0, 89.0, 103.0]\n",
      "[84.0, 88.0, 89.0] [84.0, 88.0, 89.0, 103.0]\n",
      "[84.0, 88.0, 89.0] [84.0, 88.0, 89.0, 98.0]\n",
      "[84.0, 88.0, 89.0] [84.0, 88.0, 89.0, 103.0]\n",
      "[84.0, 88.0, 89.0] [84.0, 88.0, 89.0, 97.0]\n",
      "[84.0, 88.0, 89.0] [84.0, 88.0, 89.0, 92.0]\n",
      "[84.0, 88.0, 89.0] [84.0, 88.0, 89.0, 98.0]\n",
      "[84.0, 88.0, 89.0] [84.0, 88.0, 89.0]\n",
      "[84.0, 88.0, 89.0] [84.0, 88.0, 89.0]\n",
      "[84.0, 88.0, 89.0] [84.0, 88.0, 89.0, 90.0]\n",
      "[84.0, 88.0, 89.0] [84.0, 88.0, 89.0]\n",
      "[84.0, 88.0, 89.0] [84.0, 88.0, 89.0]\n",
      "[84.0, 88.0, 89.0] [84.0, 88.0, 89.0]\n",
      "[84.0, 88.0, 89.0] [84.0, 88.0, 89.0, 98.0, 105.0]\n",
      "[84.0, 88.0, 89.0] [84.0, 88.0, 89.0, 98.0, 101.0]\n",
      "[84.0, 88.0, 89.0] [84.0, 88.0, 89.0]\n",
      "[84.0, 88.0, 89.0] [84.0, 88.0, 89.0, 103.0]\n",
      "[84.0, 88.0, 89.0] [84.0, 88.0, 89.0]\n",
      "[84.0, 88.0, 89.0] [84.0, 88.0, 89.0, 103.0, 104.0]\n",
      "[84.0, 88.0, 89.0] [84.0, 88.0, 89.0, 92.0]\n",
      "[84.0, 88.0, 89.0] [84.0, 88.0, 89.0, 98.0]\n",
      "[84.0, 88.0, 89.0] [84.0, 88.0, 89.0, 92.0, 103.0]\n",
      "[84.0, 88.0, 89.0] [84.0, 88.0, 89.0, 98.0]\n",
      "[84.0, 88.0, 89.0] [84.0, 88.0, 89.0, 92.0, 103.0]\n",
      "[84.0, 88.0, 89.0] [84.0, 88.0, 89.0, 101.0, 107.0]\n",
      "[84.0, 88.0, 89.0] [84.0, 88.0, 89.0]\n",
      "[84.0, 88.0, 89.0] [84.0, 88.0, 89.0]\n",
      "[84.0, 88.0, 89.0] [84.0, 88.0, 89.0, 92.0]\n",
      "[84.0, 88.0, 89.0] [84.0, 88.0, 89.0, 93.0]\n",
      "[84.0, 88.0, 89.0] [84.0, 88.0, 89.0, 106.0]\n",
      "[84.0, 88.0, 89.0] [84.0, 88.0, 89.0, 93.0]\n",
      "[84.0, 88.0, 89.0] [84.0, 88.0, 89.0]\n",
      "[84.0, 88.0, 89.0] [84.0, 88.0, 89.0, 104.0, 108.0]\n",
      "[84.0, 88.0, 89.0] [84.0, 88.0, 89.0]\n",
      "[84.0, 88.0, 89.0] [84.0, 88.0, 89.0, 98.0, 104.0]\n",
      "[84.0, 88.0, 89.0] [84.0, 88.0, 89.0, 90.0, 92.0, 97.0]\n",
      "[84.0, 88.0, 89.0] [84.0, 88.0, 89.0, 90.0, 103.0, 109.0]\n",
      "[84.0, 88.0, 89.0] [84.0, 88.0, 89.0]\n",
      "[84.0, 88.0, 89.0] [84.0, 88.0, 89.0, 90.0, 92.0]\n",
      "[84.0, 88.0, 89.0] [84.0, 88.0, 89.0, 93.0]\n",
      "[84.0, 88.0, 89.0] [84.0, 88.0, 89.0, 92.0]\n",
      "[84.0, 88.0, 89.0] [84.0, 88.0, 89.0, 103.0]\n",
      "[84.0, 88.0, 89.0] [84.0, 88.0, 89.0, 98.0]\n",
      "[84.0, 88.0, 89.0] [84.0, 88.0, 89.0, 97.0, 101.0]\n",
      "[84.0, 88.0, 89.0] [84.0, 88.0, 89.0, 101.0]\n",
      "[84.0, 88.0, 89.0] [84.0, 88.0, 89.0, 92.0, 101.0]\n",
      "[84.0, 88.0, 89.0] [84.0, 88.0, 89.0, 98.0]\n",
      "[84.0, 88.0, 89.0] [84.0, 88.0, 89.0, 105.0]\n",
      "[84.0, 88.0, 89.0] [84.0, 88.0, 89.0]\n",
      "[84.0, 88.0, 89.0] [84.0, 88.0, 89.0, 103.0]\n",
      "[84.0, 88.0, 89.0] [84.0, 88.0, 89.0, 90.0]\n",
      "[84.0, 88.0, 89.0] [84.0, 88.0, 89.0, 103.0]\n",
      "[84.0, 88.0, 89.0] [84.0, 88.0, 89.0]\n",
      "[84.0, 88.0, 89.0] [84.0, 88.0, 89.0, 98.0]\n",
      "[84.0, 88.0, 89.0] [84.0, 88.0, 89.0]\n",
      "[84.0, 88.0, 89.0] [84.0, 88.0, 89.0, 103.0]\n",
      "[84.0, 88.0, 89.0] [84.0, 88.0, 89.0]\n",
      "[84.0, 88.0, 89.0] [84.0, 88.0, 89.0, 92.0]\n",
      "[84.0, 88.0, 89.0] [84.0, 88.0, 89.0, 98.0]\n",
      "[84.0, 88.0, 89.0] [84.0, 88.0, 89.0, 101.0, 103.0, 107.0]\n",
      "[84.0, 88.0, 89.0] [84.0, 88.0, 89.0, 103.0]\n",
      "[84.0, 88.0, 89.0] [84.0, 88.0, 89.0, 103.0]\n",
      "[84.0, 88.0, 89.0] [84.0, 88.0, 89.0]\n",
      "[84.0, 88.0, 89.0] [84.0, 88.0, 89.0]\n",
      "[84.0, 88.0, 89.0] [84.0, 88.0, 89.0]\n",
      "[84.0, 88.0, 89.0] [84.0, 88.0, 89.0]\n",
      "[84.0, 88.0, 89.0] [84.0, 88.0, 89.0, 103.0]\n",
      "[84.0, 88.0, 89.0] [84.0, 88.0, 89.0, 103.0]\n",
      "[84.0, 88.0, 89.0] [84.0, 88.0, 89.0]\n",
      "[84.0, 88.0, 89.0] [84.0, 88.0, 89.0]\n",
      "[84.0, 88.0, 89.0] [84.0, 88.0, 89.0, 98.0]\n",
      "[84.0, 88.0, 89.0] [84.0, 88.0, 89.0, 108.0]\n",
      "[84.0, 88.0, 89.0] [84.0, 88.0, 89.0, 103.0]\n",
      "[84.0, 88.0, 89.0] [84.0, 88.0, 89.0, 92.0]\n",
      "[84.0, 88.0, 89.0] [84.0, 88.0, 89.0, 98.0]\n",
      "[84.0, 88.0, 89.0] [84.0, 88.0, 89.0]\n",
      "[84.0, 88.0, 89.0] [84.0, 88.0, 89.0, 92.0, 103.0]\n",
      "[84.0, 88.0, 89.0] [84.0, 88.0, 89.0, 103.0]\n",
      "[84.0, 88.0, 89.0] [84.0, 88.0, 89.0, 98.0]\n",
      "[84.0, 88.0, 89.0] [84.0, 88.0, 89.0]\n",
      "[84.0, 88.0, 89.0] [84.0, 88.0, 89.0]\n",
      "[84.0, 88.0, 89.0] [84.0, 88.0, 89.0, 101.0]\n",
      "[84.0, 88.0, 89.0] [84.0, 88.0, 89.0, 98.0, 101.0, 107.0]\n",
      "[84.0, 88.0, 89.0] [84.0, 88.0, 89.0, 90.0]\n",
      "[84.0, 88.0, 89.0] [84.0, 88.0, 89.0, 98.0]\n",
      "[84.0, 88.0, 89.0] [84.0, 88.0, 89.0]\n",
      "[84.0, 88.0, 89.0] [84.0, 88.0, 89.0, 103.0]\n",
      "[84.0, 88.0, 89.0] [84.0, 88.0, 89.0, 98.0]\n",
      "[84.0, 88.0, 89.0] [84.0, 88.0, 89.0, 103.0]\n",
      "[84.0, 88.0, 89.0] [84.0, 88.0, 89.0, 103.0]\n",
      "[84.0, 88.0, 89.0] [84.0, 88.0, 89.0, 103.0]\n",
      "[84.0, 88.0, 89.0] [84.0, 88.0, 89.0, 106.0]\n",
      "[84.0, 88.0, 89.0] [84.0, 88.0, 89.0, 101.0]\n",
      "[84.0, 88.0, 89.0] [84.0, 88.0, 89.0, 103.0]\n",
      "[84.0, 88.0, 89.0] [84.0, 88.0, 89.0, 101.0]\n",
      "[84.0, 88.0, 89.0] [84.0, 88.0, 89.0, 92.0]\n",
      "[84.0, 88.0, 89.0] [84.0, 88.0, 89.0, 101.0]\n",
      "[84.0, 88.0, 89.0] [84.0, 88.0, 89.0, 98.0, 103.0]\n",
      "[84.0, 88.0, 89.0] [84.0, 88.0, 89.0, 98.0, 104.0]\n",
      "[84.0, 88.0, 89.0] [84.0, 88.0, 89.0, 98.0]\n",
      "[84.0, 88.0, 89.0] [84.0, 88.0, 89.0, 98.0, 105.0]\n",
      "[84.0, 88.0, 89.0] [84.0, 88.0, 89.0, 103.0]\n",
      "[84.0, 88.0, 89.0] [84.0, 88.0, 89.0, 101.0]\n",
      "[84.0, 88.0, 89.0] [84.0, 88.0, 89.0]\n",
      "[84.0, 88.0, 89.0] [84.0, 88.0, 89.0, 98.0]\n",
      "[84.0, 88.0, 89.0] [84.0, 88.0, 89.0]\n",
      "[84.0, 88.0, 89.0] [84.0, 88.0, 89.0]\n",
      "[84.0, 88.0, 89.0] [84.0, 88.0, 89.0]\n",
      "[84.0, 88.0, 89.0] [84.0, 88.0, 89.0, 103.0]\n",
      "[84.0, 88.0, 89.0] [84.0, 88.0, 89.0, 101.0]\n",
      "[84.0, 88.0, 89.0] [84.0, 88.0, 89.0]\n",
      "[84.0, 88.0, 89.0] [84.0, 88.0, 89.0, 92.0]\n",
      "[84.0, 88.0, 89.0] [84.0, 88.0, 89.0]\n",
      "[84.0, 88.0, 89.0] [84.0, 88.0, 89.0, 98.0, 105.0]\n",
      "[84.0, 88.0, 89.0] [84.0, 88.0, 89.0, 90.0]\n",
      "[84.0, 88.0, 89.0] [84.0, 88.0, 89.0, 92.0]\n",
      "[84.0, 88.0, 89.0] [84.0, 88.0, 89.0]\n",
      "[84.0, 88.0, 89.0] [84.0, 88.0, 89.0, 101.0]\n",
      "[84.0, 88.0, 89.0] [84.0, 88.0, 89.0, 90.0, 103.0]\n",
      "[84.0, 88.0, 89.0] [84.0, 88.0, 89.0, 103.0]\n",
      "[84.0, 88.0, 89.0] [84.0, 88.0, 89.0, 92.0, 98.0]\n",
      "[84.0, 88.0, 89.0] [84.0, 88.0, 89.0]\n",
      "[84.0, 88.0, 89.0] [84.0, 88.0, 89.0, 98.0]\n",
      "[84.0, 88.0, 89.0] [84.0, 88.0, 89.0]\n",
      "[84.0, 88.0, 89.0] [84.0, 88.0, 89.0]\n",
      "[84.0, 88.0, 89.0] [84.0, 88.0, 89.0, 92.0]\n",
      "[84.0, 88.0, 89.0] [84.0, 88.0, 89.0]\n",
      "[84.0, 88.0, 89.0] [84.0, 88.0, 89.0, 92.0]\n",
      "[84.0, 88.0, 89.0] [84.0, 88.0, 89.0, 97.0]\n",
      "[84.0, 88.0, 89.0] [84.0, 88.0, 89.0, 92.0]\n",
      "[84.0, 88.0, 89.0] [84.0, 88.0, 89.0]\n",
      "[84.0, 88.0, 89.0] [84.0, 88.0, 89.0, 92.0, 98.0]\n",
      "[84.0, 88.0, 89.0] [84.0, 88.0, 89.0]\n",
      "[84.0, 88.0, 89.0] [84.0, 88.0, 89.0, 112.0]\n",
      "[84.0, 88.0, 89.0] [84.0, 88.0, 89.0, 103.0]\n",
      "[84.0, 88.0, 89.0] [84.0, 88.0, 89.0, 103.0, 106.0]\n",
      "[84.0, 88.0, 89.0] [84.0, 88.0, 89.0, 93.0]\n",
      "[84.0, 88.0, 89.0] [84.0, 88.0, 89.0, 98.0]\n",
      "[84.0, 88.0, 89.0] [84.0, 88.0, 89.0, 93.0, 99.0]\n",
      "[84.0, 88.0, 89.0] [84.0, 88.0, 89.0, 94.0, 100.0]\n",
      "[84.0, 88.0, 89.0] [84.0, 88.0, 89.0, 103.0]\n",
      "[84.0, 88.0, 89.0] [84.0, 88.0, 89.0, 100.0, 103.0]\n",
      "[84.0, 88.0, 89.0] [84.0, 88.0, 89.0]\n",
      "[84.0, 88.0, 89.0] [84.0, 88.0, 89.0]\n",
      "[84.0, 88.0, 89.0] [84.0, 88.0, 89.0, 92.0]\n",
      "[84.0, 88.0, 89.0] [84.0, 88.0, 89.0, 98.0]\n",
      "[84.0, 88.0, 89.0] [84.0, 88.0, 89.0, 99.0]\n",
      "[84.0, 88.0, 89.0] [84.0, 88.0, 89.0]\n",
      "[84.0, 88.0, 89.0] [84.0, 88.0, 89.0, 92.0]\n",
      "[84.0, 88.0, 89.0] [84.0, 88.0, 89.0, 93.0, 99.0, 106.0]\n",
      "[84.0, 88.0, 89.0] [84.0, 88.0, 89.0, 92.0, 100.0]\n",
      "[84.0, 88.0, 89.0] [84.0, 88.0, 89.0, 98.0, 106.0]\n",
      "[84.0, 88.0, 89.0] [84.0, 88.0, 89.0, 92.0]\n",
      "[84.0, 88.0, 89.0] [84.0, 88.0, 89.0]\n",
      "[84.0, 88.0, 89.0] [84.0, 88.0, 89.0, 92.0, 98.0]\n",
      "[84.0, 88.0, 89.0] [84.0, 88.0, 89.0]\n",
      "[84.0, 88.0, 89.0] [84.0, 88.0, 89.0, 98.0]\n",
      "[84.0, 88.0, 89.0] [84.0, 88.0, 89.0, 98.0, 106.0]\n",
      "[84.0, 88.0, 89.0] [84.0, 88.0, 89.0, 90.0]\n",
      "[84.0, 88.0, 89.0] [84.0, 88.0, 89.0]\n",
      "[84.0, 88.0, 89.0] [84.0, 88.0, 89.0, 106.0]\n",
      "[84.0, 88.0, 89.0] [84.0, 88.0, 89.0, 104.0]\n",
      "[84.0, 88.0, 89.0] [84.0, 88.0, 89.0, 103.0]\n",
      "[84.0, 88.0, 89.0] [84.0, 88.0, 89.0, 93.0]\n",
      "[84.0, 88.0, 89.0] [84.0, 88.0, 89.0, 103.0]\n",
      "[84.0, 88.0, 89.0] [84.0, 88.0, 89.0, 99.0]\n",
      "[[6, 1, 1], [6, 2, 2], [6, 3, 5]]\n",
      "[[5, 1, 1], [5, 2, 3], [5, 3, 4]]\n",
      "[[4, 1, 1], [4, 2, 2], [4, 3, 4]]\n",
      "[[3, 1, 1], [3, 2, 2], [3, 3, 4]]\n",
      "[[2, 1, 1], [2, 2, 3], [2, 3, 5]]\n",
      "[[1, 1, 1], [1, 2, 3], [1, 3, 5]]\n",
      "\n",
      "\n",
      "[[6, 1, 1], [6, 2, 2], [6, 3, 5]]\n",
      "[[5, 1, 1], [5, 2, 2], [5, 3, 6]]\n",
      "[[4, 1, 1], [4, 2, 2], [4, 3, 4]]\n",
      "[[3, 1, 1], [3, 2, 2], [3, 3, 4]]\n",
      "[[2, 1, 1], [2, 2, 3], [2, 3, 5]]\n",
      "[[1, 1, 1], [1, 2, 3], [1, 3, 5]]\n",
      "\n",
      "\n",
      "[[6, 1, 1], [6, 2, 2], [6, 3, 5]]\n",
      "[[5, 1, 1], [5, 2, 2], [5, 3, 4]]\n",
      "[[4, 1, 1], [4, 2, 2], [4, 3, 4]]\n",
      "[[3, 1, 1], [3, 2, 2], [3, 3, 4]]\n",
      "[[2, 1, 1], [2, 2, 3], [2, 3, 5]]\n",
      "[[1, 1, 1], [1, 2, 3], [1, 3, 5]]\n",
      "\n",
      "\n"
     ]
    }
   ],
   "source": [
    "num_solution = 3\n",
    "jumlah_mesin = 6\n",
    "jumlah_kelompok = 6\n",
    "crossover_rate = 0.25\n",
    "mutation_rate = 0.1\n",
    "\n",
    "total_gen = jumlah_mesin * num_solution\n",
    "number_of_mutation = int(np.ceil(mutation_rate * total_gen))\n",
    "\n",
    "    \n",
    "def iteration(num_of_iteration):\n",
    "    for iteration in range ((num_of_iteration)):\n",
    "        r1 = random.randrange(1,total_gen)\n",
    "        r2 = random.randrange(1,total_gen)\n",
    "        if (iteration == 0):\n",
    "            solution_collection = [\n",
    "                generate_first_solution([1,2,3,4,5,6]),\n",
    "                generate_first_solution([6,5,4,3,2,1]),\n",
    "                generate_first_solution([4,5,6,1,2,3])\n",
    "            ]\n",
    "        output_step_1 = solution_collection.copy()\n",
    "        backup_solution = copy.deepcopy(solution_collection)\n",
    "        output_step_2 = step_2_evaluation(output_step_1)\n",
    "        list_fitness = generate_fitness(output_step_2)\n",
    "        list_probabilities, list_combinatory = prob_every_chromosome(list_fitness)\n",
    "\n",
    "        list_random = random_number_generator(list_probabilities)\n",
    "        # list_random = [0.992, 0.422,0.962]\n",
    "\n",
    "        output_step_3 = assign_combinatory_to_chromosome(list_random, list_combinatory, output_step_1)\n",
    "\n",
    "        \n",
    "        list_random_crossover = random_number_generator(list_probabilities)\n",
    "        # list_random_crossover = [0.139161237267897, 0.140290355, 0.666743680741016]\n",
    "        output_step_4 = step_4_crossover(list_random_crossover,output_step_3)\n",
    "\n",
    "        # display_solutions(solution_collection)\n",
    "        # display_solutions(backup)\n",
    "        output_step_5 = (evaluation_step_5_after_randomized(output_step_4,r1,r2))\n",
    "\n",
    "        # solution_collection = [\n",
    "        #     generate_first_solution([1,2,3,4,5,6]),\n",
    "        #     generate_first_solution([6,5,4,3,2,1]),\n",
    "        #     generate_first_solution([4,5,6,1,2,3])\n",
    "        # ]\n",
    "        \n",
    "        # display_solutions(solution_collection)\n",
    "        # # print(r1,r2)\n",
    "    \n",
    "        output_step_6 = step_6_evaluation(output_step_5)\n",
    "        # display_solutions(backup_solution)\n",
    "        new_solution = (elimination_step_7(backup_solution, output_step_2, output_step_6, output_step_4))\n",
    "        # display_solutions(output_step_2)\n",
    "        new_solution_keys = (list(new_solution.keys())[:num_solution])\n",
    "        new_solution_value = (list(new_solution.values())[:num_solution])\n",
    "        print(new_solution_keys, list(new_solution.keys())[:])        \n",
    "        solution_collection = new_solution_value\n",
    "\n",
    "    return (solution_collection)\n",
    "\n",
    "display_solutions(iteration(500))\n",
    "\n",
    "    "
   ]
  }
 ],
 "metadata": {
  "kernelspec": {
   "display_name": "Python 3",
   "language": "python",
   "name": "python3"
  },
  "language_info": {
   "codemirror_mode": {
    "name": "ipython",
    "version": 3
   },
   "file_extension": ".py",
   "mimetype": "text/x-python",
   "name": "python",
   "nbconvert_exporter": "python",
   "pygments_lexer": "ipython3",
   "version": "3.11.3"
  },
  "orig_nbformat": 4
 },
 "nbformat": 4,
 "nbformat_minor": 2
}
